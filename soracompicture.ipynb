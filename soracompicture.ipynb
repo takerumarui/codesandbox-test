{
  "nbformat": 4,
  "nbformat_minor": 0,
  "metadata": {
    "colab": {
      "provenance": [],
      "authorship_tag": "ABX9TyMWu3WY46blC9UuOyk5dVYq",
      "include_colab_link": true
    },
    "kernelspec": {
      "name": "python3",
      "display_name": "Python 3"
    },
    "language_info": {
      "name": "python"
    }
  },
  "cells": [
    {
      "cell_type": "markdown",
      "metadata": {
        "id": "view-in-github",
        "colab_type": "text"
      },
      "source": [
        "<a href=\"https://colab.research.google.com/github/takerumarui/codesandbox-test/blob/main/soracompicture.ipynb\" target=\"_parent\"><img src=\"https://colab.research.google.com/assets/colab-badge.svg\" alt=\"Open In Colab\"/></a>"
      ]
    },
    {
      "cell_type": "markdown",
      "source": [
        "# SORACOMから取得したデータをStreamlitを用いてWEBアプリにグラフ化して表示する\n"
      ],
      "metadata": {
        "id": "R9gqS3qLV2Yf"
      }
    },
    {
      "cell_type": "markdown",
      "source": [
        "## ライブラリのインストール"
      ],
      "metadata": {
        "id": "6UwAclmJWKA_"
      }
    },
    {
      "cell_type": "markdown",
      "source": [
        "streamlit、およびアプリの動作の確認に使用する「ngrok」をインストールする。"
      ],
      "metadata": {
        "id": "gUxmaUXVWNug"
      }
    },
    {
      "cell_type": "code",
      "execution_count": null,
      "metadata": {
        "id": "vKbncAXgVpDU"
      },
      "outputs": [],
      "source": [
        "!pip install streamlit==1.20.0 --quiet\n",
        "!pip install pyngrok==4.1.1 --quiet"
      ]
    },
    {
      "cell_type": "markdown",
      "source": [
        "streamlit、およびngrokをインポートする。"
      ],
      "metadata": {
        "id": "8Y-q1rZoWbBx"
      }
    },
    {
      "cell_type": "code",
      "source": [
        "import streamlit as st\n",
        "from pyngrok import ngrok"
      ],
      "metadata": {
        "id": "SpTeOA3SWazZ"
      },
      "execution_count": null,
      "outputs": []
    },
    {
      "cell_type": "markdown",
      "source": [
        "## ページのUI"
      ],
      "metadata": {
        "id": "1sMo4F77WlGj"
      }
    },
    {
      "cell_type": "code",
      "source": [
        "# API_USERNAME='keyId-eewmuNeyaqkfmTCCqiRqaHfBUuOUjYUy'\n",
        "# API_PASSWORD='secret-qFDv8Gko60PesgXuIYTLCTgr1QQ0WCaWgkYzW1BeJw5Kx2qVz6j0oVELQvgH1a0K'\n",
        "# API_EMAIL='moriwaki@cee.ehime-u.ac.jp'\n",
        "# API_DATA_PASSWORD='Moriwakilab00'\n",
        "# API_POST='https://api.soracom.io/v1/auth'\n",
        "# URL01=\"https://api.soracom.io/v1/data/Subscribers/440103213407109\"\n",
        "# URL02=\"https://api.soracom.io/v1/data/Subscribers/440103215409283\"\n",
        "# URL03=\"https://api.soracom.io/v1/data/Subscribers/440103213490553\"\n",
        "# URL04=\"https://api.soracom.io/v1/data/Subscribers/440103268104071\"\n",
        "# URL05=\"https://api.soracom.io/v1/data/Subscribers/440103268364242\"\n",
        "# URL06=\"https://api.soracom.io/v1/data/Subscribers/440103268105072\"\n",
        "# URL07=\"https://api.soracom.io/v1/data/Subscribers/440103268108878\"\n",
        "# URL08=\"https://api.soracom.io/v1/data/Subscribers/440103268125910\"\n",
        "# URL09=\"https://api.soracom.io/v1/data/Subscribers/440103215420030\"\n",
        "# URL10=\"https://api.soracom.io/v1/data/Subscribers/440103268361339\""
      ],
      "metadata": {
        "id": "cjv7Krz7e19J"
      },
      "execution_count": null,
      "outputs": []
    },
    {
      "cell_type": "code",
      "source": [
        "%%writefile app.py\n",
        "# 以下を「app.py」に書き込み\n",
        "import pandas as pd\n",
        "import matplotlib.pyplot as plt\n",
        "import json\n",
        "import requests\n",
        "import datetime\n",
        "import streamlit as st\n",
        "\n",
        "# APIの認証情報を環境変数から取得\n",
        "api_username='keyId-eewmuNeyaqkfmTCCqiRqaHfBUuOUjYUy'\n",
        "api_password='secret-qFDv8Gko60PesgXuIYTLCTgr1QQ0WCaWgkYzW1BeJw5Kx2qVz6j0oVELQvgH1a0K'\n",
        "api_email='moriwaki@cee.ehime-u.ac.jp'\n",
        "api_data_password='Moriwakilab00'\n",
        "api_post='https://api.soracom.io/v1/auth'\n",
        "url01=\"https://api.soracom.io/v1/data/Subscribers/440103213407109\"\n",
        "url02=\"https://api.soracom.io/v1/data/Subscribers/440103215409283\"\n",
        "url03=\"https://api.soracom.io/v1/data/Subscribers/440103213490553\"\n",
        "url04=\"https://api.soracom.io/v1/data/Subscribers/440103268104071\"\n",
        "url05=\"https://api.soracom.io/v1/data/Subscribers/440103268364242\"\n",
        "url06=\"https://api.soracom.io/v1/data/Subscribers/440103268105072\"\n",
        "url07=\"https://api.soracom.io/v1/data/Subscribers/440103268108878\"\n",
        "url08=\"https://api.soracom.io/v1/data/Subscribers/440103268125910\"\n",
        "url09=\"https://api.soracom.io/v1/data/Subscribers/440103215420030\"\n",
        "url10=\"https://api.soracom.io/v1/data/Subscribers/440103268361339\"\n",
        "\n",
        "# Streamlit app\n",
        "st.title('堂野窪地区　傾斜センサ')\n",
        "\n",
        "#apiキーとトークンを作成\n",
        "auth = (api_username, api_password)\n",
        "headers = {'Content-Type': 'application/json'}\n",
        "data = {'email': api_email, 'password': api_data_password}\n",
        "\n",
        "response = requests.post(api_post, auth=auth, headers=headers, data=json.dumps(data))\n",
        "response.raise_for_status()\n",
        "auth_response = response.json()\n",
        "\n",
        "api_key = auth_response['apiKey']\n",
        "api_token = auth_response['token']\n",
        "\n",
        "# Allow users to select the time range\n",
        "selected_week = st.selectbox('閲覧したい週を選んでください', ['今週', '先週', '2週間前'])\n",
        "\n",
        "# Calculate the time range based on the selected option\n",
        "current_time = datetime.datetime.now()\n",
        "\n",
        "if selected_week == '今週':\n",
        "    date_start = current_time - datetime.timedelta(days=current_time.weekday())\n",
        "elif selected_week == '先週':\n",
        "    date_start = current_time - datetime.timedelta(days=current_time.weekday() + 7)\n",
        "elif selected_week == '2週間前':\n",
        "    date_start = current_time - datetime.timedelta(days=current_time.weekday() + 14)\n",
        "\n",
        "# Set the start and end date times\n",
        "date_start = date_start.replace(hour=0, minute=0, second=0, microsecond=0)\n",
        "date_end = date_start + datetime.timedelta(days=7)\n",
        "\n",
        "# Convert to Unix timestamps\n",
        "unix_timestamp_ms_start = int(date_start.timestamp() * 1000)\n",
        "unix_timestamp_ms_end = int(date_end.timestamp() * 1000)\n",
        "\n",
        "headers = {\n",
        "    \"Content-Type\": \"application/json\",\n",
        "    \"X-Soracom-API-Key\": api_key,\n",
        "    \"X-Soracom-Token\": api_token\n",
        "}\n",
        "\n",
        "params = {\n",
        "    \"limit\": 100000, #取得できる最大のデータ数\n",
        "    'from': unix_timestamp_ms_start,\n",
        "    'to': unix_timestamp_ms_end\n",
        "}\n",
        "\n",
        "# Define URLs\n",
        "urls = [eval(f\"url{i:02d}\") for i in range(1, 11)]\n",
        "\n",
        "# Select a URL using a dropdown\n",
        "selected_index = st.selectbox('閲覧したい傾斜センサを選んでください', range(1, 11))\n",
        "selected_url = urls[selected_index - 1]\n",
        "\n",
        "# Fetch data for the selected URL\n",
        "response = requests.get(selected_url, headers=headers, params=params)\n",
        "\n",
        "if response.status_code == 200:\n",
        "    data = response.json()\n",
        "\n",
        "    # Create DataFrame\n",
        "    inclination = []\n",
        "    for i in range(len(data)):\n",
        "        inclination.append(data[i]['content'])\n",
        "\n",
        "    for i in range(len(inclination)):\n",
        "        tmp = inclination[i].split(sep=',')\n",
        "        inclination[i] = tmp\n",
        "\n",
        "    df = pd.DataFrame(inclination, columns=['日付', '傾斜角X', '傾斜角Y', '傾斜角Z', '電圧'])\n",
        "\n",
        "    # Convert columns to appropriate data types\n",
        "    df['日付'] = pd.to_datetime(df['日付'], errors='coerce')\n",
        "    df['傾斜角X'] = pd.to_numeric(df['傾斜角X'], errors='coerce')\n",
        "    df['傾斜角Y'] = pd.to_numeric(df['傾斜角Y'], errors='coerce')\n",
        "    df['傾斜角Z'] = pd.to_numeric(df['傾斜角Z'], errors='coerce')\n",
        "    df['電圧'] = pd.to_numeric(df['電圧'], errors='coerce')\n",
        "\n",
        "    # Display the DataFrame\n",
        "    st.write(df)\n",
        "\n",
        "    # Allow users to select the y-axis data\n",
        "    selected_y_axes = ['傾斜角X', '傾斜角Y', '電圧']\n",
        "    axis_labels = {'傾斜角X': 'Angle_X', '傾斜角Y': 'Angle_Y', '電圧': 'Voltage'}\n",
        "\n",
        "    # Create subplots for each selected y-axis\n",
        "    fig, axes = plt.subplots(len(selected_y_axes), 1, figsize=(10, 6 * len(selected_y_axes)))\n",
        "\n",
        "    # Plot scatter plots for selected_y-axes\n",
        "    for i, selected_y_axis in enumerate(selected_y_axes):\n",
        "        axes[i].scatter(df['日付'], df[selected_y_axis], marker='o', color='b')\n",
        "        axes[i].set_ylabel(axis_labels[selected_y_axis])  # Use custom axis label\n",
        "        axes[i].set_xlabel('Time')  # Set x-axis label for each subplot\n",
        "        axes[i].grid(True)\n",
        "\n",
        "    # Adjust layout to prevent clipping of labels\n",
        "    plt.tight_layout()\n",
        "\n",
        "    # Show the Matplotlib figure in Streamlit\n",
        "    st.pyplot(fig)\n",
        "\n",
        "else:\n",
        "    st.error(f\"Failed to fetch data from {selected_url}. Status code: {response.status_code}\")\n"
      ],
      "metadata": {
        "colab": {
          "base_uri": "https://localhost:8080/"
        },
        "id": "rX-J6f91WZY9",
        "outputId": "c8774797-84d6-4616-f53d-bcbd263862eb"
      },
      "execution_count": null,
      "outputs": [
        {
          "output_type": "stream",
          "name": "stdout",
          "text": [
            "Overwriting app.py\n"
          ]
        }
      ]
    },
    {
      "cell_type": "markdown",
      "source": [
        "## Authtokenの設定\n",
        "ngrokで接続するために必要な「Authtoken」を設定する\n",
        "以下のコードの\n",
        "**!ngrok authtoken**\n",
        "のの箇所を自分のAuthtokenに置き換える。\n",
        "Authtokenは、ngrokのサイトに登録すれば取得することができる。\n",
        "https://ngrok.com/"
      ],
      "metadata": {
        "id": "lFuGlvJnYRAy"
      }
    },
    {
      "cell_type": "code",
      "source": [
        "!ngrok authtoken 2OBOzqYxlLz8eZLpuiO1D4psYVY_5EHU3k58a87jzhgVLKgTM"
      ],
      "metadata": {
        "colab": {
          "base_uri": "https://localhost:8080/"
        },
        "id": "aCSe8tlYYPkV",
        "outputId": "3f882039-e9c1-492c-f8ff-76fe09e104a1"
      },
      "execution_count": null,
      "outputs": [
        {
          "output_type": "stream",
          "name": "stdout",
          "text": [
            "Authtoken saved to configuration file: /root/.ngrok2/ngrok.yml\n"
          ]
        }
      ]
    },
    {
      "cell_type": "markdown",
      "source": [
        "## アプリの起動\n",
        "streamlitのrunコマンドでアプリを起動する。"
      ],
      "metadata": {
        "id": "nWsnPkF8YvqS"
      }
    },
    {
      "cell_type": "code",
      "source": [
        "!streamlit run app.py &>/dev/null&  # 「&>/dev/null&」により、出力を非表示にしてバックグランドジョブとして実行"
      ],
      "metadata": {
        "id": "VmWpB70dYt24"
      },
      "execution_count": null,
      "outputs": []
    },
    {
      "cell_type": "markdown",
      "source": [
        "ngrokのプロセスを終了した上で、新たにポートを指定して接続する。\n",
        "接続の結果、urlを取得する。\n",
        "ngrokの無料プランでは、同時に1つのプロセスしか動かせないので、エラーが発生した場合は「ランタイム」→「セッションの管理」で不要なGoogleColabのセッションを終了する。"
      ],
      "metadata": {
        "id": "2Eb2GUc-Y7Om"
      }
    },
    {
      "cell_type": "code",
      "source": [
        "ngrok.kill()  # プロセスの修了\n",
        "url = ngrok.connect(port=\"8501\")  # 接続"
      ],
      "metadata": {
        "colab": {
          "base_uri": "https://localhost:8080/"
        },
        "id": "I1HBa6uuY5gd",
        "outputId": "25d7b462-fab6-4d35-d970-9b31f5d8600a"
      },
      "execution_count": null,
      "outputs": [
        {
          "output_type": "stream",
          "name": "stderr",
          "text": [
            "INFO:pyngrok.process:Killing ngrok process: 71204\n",
            "2024-01-31 08:05:35.831 Killing ngrok process: 71204\n",
            "INFO:pyngrok.process:ngrok process starting: 71724\n",
            "2024-01-31 08:05:35.852 ngrok process starting: 71724\n",
            "INFO:pyngrok.process:t=2024-01-31T08:05:35+0000 lvl=info msg=\"no configuration paths supplied\"\n",
            "\n",
            "2024-01-31 08:05:35.896 t=2024-01-31T08:05:35+0000 lvl=info msg=\"no configuration paths supplied\"\n",
            "\n",
            "INFO:pyngrok.process:t=2024-01-31T08:05:35+0000 lvl=info msg=\"using configuration at default config path\" path=/root/.ngrok2/ngrok.yml\n",
            "\n",
            "2024-01-31 08:05:35.905 t=2024-01-31T08:05:35+0000 lvl=info msg=\"using configuration at default config path\" path=/root/.ngrok2/ngrok.yml\n",
            "\n",
            "INFO:pyngrok.process:t=2024-01-31T08:05:35+0000 lvl=info msg=\"open config file\" path=/root/.ngrok2/ngrok.yml err=nil\n",
            "\n",
            "2024-01-31 08:05:35.913 t=2024-01-31T08:05:35+0000 lvl=info msg=\"open config file\" path=/root/.ngrok2/ngrok.yml err=nil\n",
            "\n",
            "INFO:pyngrok.process:t=2024-01-31T08:05:35+0000 lvl=info msg=\"starting web service\" obj=web addr=127.0.0.1:4040\n",
            "\n",
            "2024-01-31 08:05:35.920 t=2024-01-31T08:05:35+0000 lvl=info msg=\"starting web service\" obj=web addr=127.0.0.1:4040\n",
            "\n",
            "INFO:pyngrok.process:t=2024-01-31T08:05:36+0000 lvl=info msg=\"tunnel session started\" obj=tunnels.session\n",
            "\n",
            "2024-01-31 08:05:36.073 t=2024-01-31T08:05:36+0000 lvl=info msg=\"tunnel session started\" obj=tunnels.session\n",
            "\n",
            "INFO:pyngrok.process:t=2024-01-31T08:05:36+0000 lvl=info msg=\"client session established\" obj=csess id=7baab7984fae\n",
            "\n",
            "2024-01-31 08:05:36.077 t=2024-01-31T08:05:36+0000 lvl=info msg=\"client session established\" obj=csess id=7baab7984fae\n",
            "\n",
            "INFO:pyngrok.process:ngrok process has started: http://127.0.0.1:4040\n",
            "2024-01-31 08:05:36.082 ngrok process has started: http://127.0.0.1:4040\n",
            "INFO:pyngrok.process:t=2024-01-31T08:05:36+0000 lvl=info msg=start pg=/api/tunnels id=487c5eae2d95025f\n",
            "\n",
            "2024-01-31 08:05:36.097 t=2024-01-31T08:05:36+0000 lvl=info msg=start pg=/api/tunnels id=487c5eae2d95025f\n",
            "\n",
            "INFO:pyngrok.process:t=2024-01-31T08:05:36+0000 lvl=info msg=end pg=/api/tunnels id=487c5eae2d95025f status=200 dur=473.355µs\n",
            "\n",
            "2024-01-31 08:05:36.105 t=2024-01-31T08:05:36+0000 lvl=info msg=end pg=/api/tunnels id=487c5eae2d95025f status=200 dur=473.355µs\n",
            "\n",
            "INFO:pyngrok.process:t=2024-01-31T08:05:36+0000 lvl=info msg=start pg=/api/tunnels id=45b031a2359c2f36\n",
            "\n",
            "2024-01-31 08:05:36.110 t=2024-01-31T08:05:36+0000 lvl=info msg=start pg=/api/tunnels id=45b031a2359c2f36\n",
            "\n",
            "INFO:pyngrok.process:t=2024-01-31T08:05:36+0000 lvl=info msg=end pg=/api/tunnels id=45b031a2359c2f36 status=200 dur=178.516µs\n",
            "\n",
            "2024-01-31 08:05:36.116 t=2024-01-31T08:05:36+0000 lvl=info msg=end pg=/api/tunnels id=45b031a2359c2f36 status=200 dur=178.516µs\n",
            "\n",
            "INFO:pyngrok.process:t=2024-01-31T08:05:36+0000 lvl=info msg=start pg=/api/tunnels id=345cbb84f21d7b38\n",
            "\n",
            "2024-01-31 08:05:36.121 t=2024-01-31T08:05:36+0000 lvl=info msg=start pg=/api/tunnels id=345cbb84f21d7b38\n",
            "\n",
            "INFO:pyngrok.process:t=2024-01-31T08:05:36+0000 lvl=info msg=\"started tunnel\" obj=tunnels name=\"http-8501-a5a11e36-e2ff-44ab-9d8c-55ddd92a55e0 (http)\" addr=http://localhost:8501 url=http://afc3-35-196-156-206.ngrok-free.app\n",
            "\n",
            "2024-01-31 08:05:36.192 t=2024-01-31T08:05:36+0000 lvl=info msg=\"started tunnel\" obj=tunnels name=\"http-8501-a5a11e36-e2ff-44ab-9d8c-55ddd92a55e0 (http)\" addr=http://localhost:8501 url=http://afc3-35-196-156-206.ngrok-free.app\n",
            "\n",
            "INFO:pyngrok.process:t=2024-01-31T08:05:36+0000 lvl=info msg=\"started tunnel\" obj=tunnels name=http-8501-a5a11e36-e2ff-44ab-9d8c-55ddd92a55e0 addr=http://localhost:8501 url=https://afc3-35-196-156-206.ngrok-free.app\n",
            "\n",
            "2024-01-31 08:05:36.200 t=2024-01-31T08:05:36+0000 lvl=info msg=\"started tunnel\" obj=tunnels name=http-8501-a5a11e36-e2ff-44ab-9d8c-55ddd92a55e0 addr=http://localhost:8501 url=https://afc3-35-196-156-206.ngrok-free.app\n",
            "\n",
            "INFO:pyngrok.process:t=2024-01-31T08:05:36+0000 lvl=info msg=end pg=/api/tunnels id=345cbb84f21d7b38 status=201 dur=91.307153ms\n",
            "\n"
          ]
        }
      ]
    },
    {
      "cell_type": "markdown",
      "source": [
        "## 動作の確認\n",
        "URLのhttpの部分をhttpsに変換する関数を設定\n"
      ],
      "metadata": {
        "id": "hqAMtp_cZQX_"
      }
    },
    {
      "cell_type": "code",
      "source": [
        "def convert_http_to_https(url):\n",
        "    if url.startswith(\"http://\"):\n",
        "        url = url.replace(\"http://\", \"https://\", 1)\n",
        "    return url"
      ],
      "metadata": {
        "id": "ouMTSZ32ZN4C",
        "colab": {
          "base_uri": "https://localhost:8080/"
        },
        "outputId": "4f24bf70-83d2-4565-c16d-5aca26c3167b"
      },
      "execution_count": null,
      "outputs": [
        {
          "output_type": "stream",
          "name": "stderr",
          "text": [
            "2024-01-31 08:05:36.205 t=2024-01-31T08:05:36+0000 lvl=info msg=end pg=/api/tunnels id=345cbb84f21d7b38 status=201 dur=91.307153ms\n",
            "\n"
          ]
        }
      ]
    },
    {
      "cell_type": "markdown",
      "source": [
        "変換したurlを表示し、リンク先でアプリが動作することを確認する。"
      ],
      "metadata": {
        "id": "BXlx82IbZY9N"
      }
    },
    {
      "cell_type": "code",
      "source": [
        "print(convert_http_to_https(url))"
      ],
      "metadata": {
        "colab": {
          "base_uri": "https://localhost:8080/"
        },
        "id": "p7Zy4k-pZYd3",
        "outputId": "e73116c9-da9b-4a58-abb6-330424570a97"
      },
      "execution_count": null,
      "outputs": [
        {
          "output_type": "stream",
          "name": "stdout",
          "text": [
            "https://afc3-35-196-156-206.ngrok-free.app\n"
          ]
        }
      ]
    },
    {
      "cell_type": "code",
      "source": [],
      "metadata": {
        "id": "bpLee0xFZf1c"
      },
      "execution_count": null,
      "outputs": []
    }
  ]
}